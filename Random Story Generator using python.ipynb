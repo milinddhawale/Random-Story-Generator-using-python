{
 "cells": [
  {
   "cell_type": "code",
   "execution_count": 3,
   "id": "fdeeab4d",
   "metadata": {},
   "outputs": [],
   "source": [
    "import pandas as pd"
   ]
  },
  {
   "cell_type": "code",
   "execution_count": 1,
   "id": "05289b41",
   "metadata": {},
   "outputs": [
    {
     "name": "stdout",
     "output_type": "stream",
     "text": [
      "My experience with truth\n"
     ]
    }
   ],
   "source": [
    "import random\n",
    "\n",
    "#list of books is stored in the list - 'books'\n",
    "books = ['Mother','Midnight children','My experience with truth']\n",
    "\n",
    "#An item from the list 'books' is selected\n",
    "#by random.choice()\n",
    "print(random.choice(books))"
   ]
  },
  {
   "cell_type": "code",
   "execution_count": 6,
   "id": "5d075a24",
   "metadata": {},
   "outputs": [
    {
     "name": "stdout",
     "output_type": "stream",
     "text": [
      "Once upon a time there was a man named Jack. One day he was going for a picnic to  the mountains he saw a young lady who seemed to be in late 20s digging a well on roadside.\n"
     ]
    }
   ],
   "source": [
    "import random\n",
    "\n",
    "Sentence_starter = ['About 100 years ago', ' In the 20 BC', 'Once upon a time']\n",
    "character = [' there lived a king.',' there was a man named Jack.',\n",
    "             ' there lived a farmer.']\n",
    "time = [' One day', ' One full-moon night']\n",
    "story_plot = [' he was passing by',' he was going for a picnic to ']\n",
    "place = [' the mountains', ' the garden']\n",
    "second_character = [' he saw a man', ' he saw a young lady']\n",
    "age = [' who seemed to be in late 20s', ' who seemed very old and feeble']\n",
    "work = [' searching something.', ' digging a well on roadside.']\n",
    "\n",
    "print(random.choice(Sentence_starter)+random.choice(character)+\n",
    "      random.choice(time)+random.choice(story_plot) +\n",
    "      random.choice(place)+random.choice(second_character)+\n",
    "      random.choice(age)+random.choice(work))"
   ]
  },
  {
   "cell_type": "code",
   "execution_count": null,
   "id": "c9c4e238",
   "metadata": {},
   "outputs": [],
   "source": []
  }
 ],
 "metadata": {
  "kernelspec": {
   "display_name": "Python 3 (ipykernel)",
   "language": "python",
   "name": "python3"
  },
  "language_info": {
   "codemirror_mode": {
    "name": "ipython",
    "version": 3
   },
   "file_extension": ".py",
   "mimetype": "text/x-python",
   "name": "python",
   "nbconvert_exporter": "python",
   "pygments_lexer": "ipython3",
   "version": "3.9.13"
  }
 },
 "nbformat": 4,
 "nbformat_minor": 5
}
